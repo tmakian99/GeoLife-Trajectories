{
 "cells": [
  {
   "cell_type": "markdown",
   "id": "8f61b464",
   "metadata": {},
   "source": [
    "# Final Project Data Analytics and IoT\n",
    "## GeoLife Trajectories "
   ]
  },
  {
   "cell_type": "code",
   "execution_count": 1,
   "id": "8a689357",
   "metadata": {},
   "outputs": [
    {
     "name": "stderr",
     "output_type": "stream",
     "text": [
      "2023-02-06 14:04:51.128998: I tensorflow/core/platform/cpu_feature_guard.cc:193] This TensorFlow binary is optimized with oneAPI Deep Neural Network Library (oneDNN) to use the following CPU instructions in performance-critical operations:  SSE4.1 SSE4.2\n",
      "To enable them in other operations, rebuild TensorFlow with the appropriate compiler flags.\n"
     ]
    }
   ],
   "source": [
    "import keras\n",
    "import pandas as pd\n",
    "import numpy as np\n",
    "import matplotlib.pyplot as plt\n",
    "import os\n",
    "\n",
    "# Setting seed for reproducibility\n",
    "np.random.seed(1234)  \n",
    "PYTHONHASHSEED = 0\n",
    "from sklearn.preprocessing import MinMaxScaler\n",
    "from scipy import stats\n",
    "from sklearn import preprocessing\n",
    "from sklearn.metrics import confusion_matrix, recall_score, precision_score\n",
    "from sklearn.model_selection import train_test_split\n",
    "from keras.models import Sequential,load_model\n",
    "from keras.layers import Dense, Dropout, LSTM\n",
    "from keras.layers.core import Activation\n",
    "from keras.utils import pad_sequences\n",
    "from sklearn.metrics import mean_squared_error as mse\n",
    "from keras.models import Sequential\n",
    "from keras.layers import LSTM, Dense\n",
    "import warnings\n",
    "warnings.filterwarnings('ignore')"
   ]
  },
  {
   "cell_type": "code",
   "execution_count": 11,
   "id": "e37a0cfc",
   "metadata": {},
   "outputs": [],
   "source": [
    "# Create an empty list to store the DataFrames\n",
    "df_list = []\n",
    "\n",
    "# Loop over each of the 181 folders\n",
    "for i in range(21):\n",
    "    # Create the folder path for each folder\n",
    "    folder_path = \"./Data/{:03d}/Trajectory\".format(i)\n",
    "\n",
    "    # Get a list of all of the .plt files in the folder\n",
    "    file_list = [f for f in os.listdir(folder_path) if f.endswith(\".plt\")]\n",
    "\n",
    "    # Loop over each .plt file in the folder\n",
    "    for file in file_list:\n",
    "        # Create the file path for each .plt file\n",
    "        file_path = os.path.join(folder_path, file)\n",
    "\n",
    "        # Load the .plt file into a DataFrame\n",
    "        df = pd.read_csv(file_path, delimiter=',', header=None, skiprows=7, \n",
    "                         names=[\"Latitude\", \"Longitude\", \"Altitude\", \"Reserved_1\", \"Reserved_2\", \"Date\", \"Time\"])\n",
    "        \n",
    "        # Convert the Altitude column from feet to meters\n",
    "        df['Altitude'] = df['Altitude'] * 0.3048\n",
    "\n",
    "        # Convert the Date and Time columns into a single datetime column\n",
    "        df['Datetime'] = pd.to_datetime(df['Date'] + ' ' + df['Time'], format='%Y-%m-%d %H:%M:%S')\n",
    "\n",
    "        # Drop the original Date and Time columns\n",
    "        df = df.drop(['Date', 'Time'], axis=1)\n",
    "\n",
    "        ## Add user column\n",
    "\n",
    "        df['user'] = \"{:03d}\".format(i)\n",
    "        \n",
    "        # Append the loaded DataFrame to the list\n",
    "        df_list.append(df)\n",
    "\n",
    "# Concatenate all of the DataFrames in the list into a single DataFrame\n",
    "df = pd.concat(df_list)"
   ]
  },
  {
   "cell_type": "code",
   "execution_count": 12,
   "outputs": [],
   "source": [
    "df['label'] = ''"
   ],
   "metadata": {
    "collapsed": false
   }
  },
  {
   "cell_type": "code",
   "execution_count": 13,
   "outputs": [],
   "source": [
    "def is_between(time, row_to_check):\n",
    "    if row_to_check['start_time'] <= time <= row_to_check['end_time']:\n",
    "        return row_to_check['transportation_mode']"
   ],
   "metadata": {
    "collapsed": false
   }
  },
  {
   "cell_type": "code",
   "execution_count": 17,
   "outputs": [
    {
     "name": "stdout",
     "output_type": "stream",
     "text": [
      "10\n",
      "row 0 of 434\n",
      "row 1 of 434\n",
      "row 2 of 434\n",
      "row 3 of 434\n",
      "row 4 of 434\n",
      "row 5 of 434\n",
      "row 6 of 434\n",
      "row 7 of 434\n",
      "row 8 of 434\n",
      "row 9 of 434\n",
      "row 10 of 434\n",
      "row 11 of 434\n",
      "row 12 of 434\n",
      "row 13 of 434\n",
      "row 14 of 434\n",
      "row 15 of 434\n",
      "row 16 of 434\n",
      "row 17 of 434\n",
      "row 18 of 434\n",
      "row 19 of 434\n",
      "row 20 of 434\n",
      "row 21 of 434\n",
      "row 22 of 434\n",
      "row 23 of 434\n",
      "row 24 of 434\n",
      "row 25 of 434\n",
      "row 26 of 434\n",
      "row 27 of 434\n",
      "row 28 of 434\n",
      "row 29 of 434\n",
      "row 30 of 434\n",
      "row 31 of 434\n",
      "row 32 of 434\n",
      "row 33 of 434\n",
      "row 34 of 434\n",
      "row 35 of 434\n",
      "row 36 of 434\n",
      "row 37 of 434\n",
      "row 38 of 434\n"
     ]
    },
    {
     "ename": "KeyboardInterrupt",
     "evalue": "",
     "output_type": "error",
     "traceback": [
      "\u001B[0;31m---------------------------------------------------------------------------\u001B[0m",
      "\u001B[0;31mKeyboardInterrupt\u001B[0m                         Traceback (most recent call last)",
      "Cell \u001B[0;32mIn[17], line 22\u001B[0m\n\u001B[1;32m     20\u001B[0m     mask \u001B[38;5;241m=\u001B[39m (df_user[\u001B[38;5;124m'\u001B[39m\u001B[38;5;124mDatetime\u001B[39m\u001B[38;5;124m'\u001B[39m] \u001B[38;5;241m>\u001B[39m\u001B[38;5;241m=\u001B[39m row[\u001B[38;5;124m'\u001B[39m\u001B[38;5;124mstart_time\u001B[39m\u001B[38;5;124m'\u001B[39m])\n\u001B[1;32m     21\u001B[0m     df_to_apply \u001B[38;5;241m=\u001B[39m df_user[mask]\n\u001B[0;32m---> 22\u001B[0m     df_user\u001B[38;5;241m.\u001B[39mloc[mask, \u001B[38;5;124m'\u001B[39m\u001B[38;5;124mlabel\u001B[39m\u001B[38;5;124m'\u001B[39m] \u001B[38;5;241m=\u001B[39m \u001B[43mdf_to_apply\u001B[49m\u001B[43m[\u001B[49m\u001B[38;5;124;43m'\u001B[39;49m\u001B[38;5;124;43mDatetime\u001B[39;49m\u001B[38;5;124;43m'\u001B[39;49m\u001B[43m]\u001B[49m\u001B[38;5;241;43m.\u001B[39;49m\u001B[43mapply\u001B[49m\u001B[43m(\u001B[49m\u001B[38;5;28;43;01mlambda\u001B[39;49;00m\u001B[43m \u001B[49m\u001B[43mx\u001B[49m\u001B[43m:\u001B[49m\u001B[43m \u001B[49m\u001B[43mis_between\u001B[49m\u001B[43m(\u001B[49m\u001B[43mx\u001B[49m\u001B[43m,\u001B[49m\u001B[43m \u001B[49m\u001B[43mrow\u001B[49m\u001B[43m)\u001B[49m\u001B[43m)\u001B[49m\n\u001B[1;32m     23\u001B[0m df_list_w_labels\u001B[38;5;241m.\u001B[39mappend(df_user)\n\u001B[1;32m     24\u001B[0m \u001B[38;5;28;01mbreak\u001B[39;00m\n",
      "File \u001B[0;32m~/opt/anaconda3/envs/AAI530/lib/python3.9/site-packages/pandas/core/series.py:4771\u001B[0m, in \u001B[0;36mSeries.apply\u001B[0;34m(self, func, convert_dtype, args, **kwargs)\u001B[0m\n\u001B[1;32m   4661\u001B[0m \u001B[38;5;28;01mdef\u001B[39;00m \u001B[38;5;21mapply\u001B[39m(\n\u001B[1;32m   4662\u001B[0m     \u001B[38;5;28mself\u001B[39m,\n\u001B[1;32m   4663\u001B[0m     func: AggFuncType,\n\u001B[0;32m   (...)\u001B[0m\n\u001B[1;32m   4666\u001B[0m     \u001B[38;5;241m*\u001B[39m\u001B[38;5;241m*\u001B[39mkwargs,\n\u001B[1;32m   4667\u001B[0m ) \u001B[38;5;241m-\u001B[39m\u001B[38;5;241m>\u001B[39m DataFrame \u001B[38;5;241m|\u001B[39m Series:\n\u001B[1;32m   4668\u001B[0m     \u001B[38;5;124;03m\"\"\"\u001B[39;00m\n\u001B[1;32m   4669\u001B[0m \u001B[38;5;124;03m    Invoke function on values of Series.\u001B[39;00m\n\u001B[1;32m   4670\u001B[0m \n\u001B[0;32m   (...)\u001B[0m\n\u001B[1;32m   4769\u001B[0m \u001B[38;5;124;03m    dtype: float64\u001B[39;00m\n\u001B[1;32m   4770\u001B[0m \u001B[38;5;124;03m    \"\"\"\u001B[39;00m\n\u001B[0;32m-> 4771\u001B[0m     \u001B[38;5;28;01mreturn\u001B[39;00m \u001B[43mSeriesApply\u001B[49m\u001B[43m(\u001B[49m\u001B[38;5;28;43mself\u001B[39;49m\u001B[43m,\u001B[49m\u001B[43m \u001B[49m\u001B[43mfunc\u001B[49m\u001B[43m,\u001B[49m\u001B[43m \u001B[49m\u001B[43mconvert_dtype\u001B[49m\u001B[43m,\u001B[49m\u001B[43m \u001B[49m\u001B[43margs\u001B[49m\u001B[43m,\u001B[49m\u001B[43m \u001B[49m\u001B[43mkwargs\u001B[49m\u001B[43m)\u001B[49m\u001B[38;5;241;43m.\u001B[39;49m\u001B[43mapply\u001B[49m\u001B[43m(\u001B[49m\u001B[43m)\u001B[49m\n",
      "File \u001B[0;32m~/opt/anaconda3/envs/AAI530/lib/python3.9/site-packages/pandas/core/apply.py:1105\u001B[0m, in \u001B[0;36mSeriesApply.apply\u001B[0;34m(self)\u001B[0m\n\u001B[1;32m   1102\u001B[0m     \u001B[38;5;28;01mreturn\u001B[39;00m \u001B[38;5;28mself\u001B[39m\u001B[38;5;241m.\u001B[39mapply_str()\n\u001B[1;32m   1104\u001B[0m \u001B[38;5;66;03m# self.f is Callable\u001B[39;00m\n\u001B[0;32m-> 1105\u001B[0m \u001B[38;5;28;01mreturn\u001B[39;00m \u001B[38;5;28;43mself\u001B[39;49m\u001B[38;5;241;43m.\u001B[39;49m\u001B[43mapply_standard\u001B[49m\u001B[43m(\u001B[49m\u001B[43m)\u001B[49m\n",
      "File \u001B[0;32m~/opt/anaconda3/envs/AAI530/lib/python3.9/site-packages/pandas/core/apply.py:1156\u001B[0m, in \u001B[0;36mSeriesApply.apply_standard\u001B[0;34m(self)\u001B[0m\n\u001B[1;32m   1154\u001B[0m     \u001B[38;5;28;01melse\u001B[39;00m:\n\u001B[1;32m   1155\u001B[0m         values \u001B[38;5;241m=\u001B[39m obj\u001B[38;5;241m.\u001B[39mastype(\u001B[38;5;28mobject\u001B[39m)\u001B[38;5;241m.\u001B[39m_values\n\u001B[0;32m-> 1156\u001B[0m         mapped \u001B[38;5;241m=\u001B[39m \u001B[43mlib\u001B[49m\u001B[38;5;241;43m.\u001B[39;49m\u001B[43mmap_infer\u001B[49m\u001B[43m(\u001B[49m\n\u001B[1;32m   1157\u001B[0m \u001B[43m            \u001B[49m\u001B[43mvalues\u001B[49m\u001B[43m,\u001B[49m\n\u001B[1;32m   1158\u001B[0m \u001B[43m            \u001B[49m\u001B[43mf\u001B[49m\u001B[43m,\u001B[49m\n\u001B[1;32m   1159\u001B[0m \u001B[43m            \u001B[49m\u001B[43mconvert\u001B[49m\u001B[38;5;241;43m=\u001B[39;49m\u001B[38;5;28;43mself\u001B[39;49m\u001B[38;5;241;43m.\u001B[39;49m\u001B[43mconvert_dtype\u001B[49m\u001B[43m,\u001B[49m\n\u001B[1;32m   1160\u001B[0m \u001B[43m        \u001B[49m\u001B[43m)\u001B[49m\n\u001B[1;32m   1162\u001B[0m \u001B[38;5;28;01mif\u001B[39;00m \u001B[38;5;28mlen\u001B[39m(mapped) \u001B[38;5;129;01mand\u001B[39;00m \u001B[38;5;28misinstance\u001B[39m(mapped[\u001B[38;5;241m0\u001B[39m], ABCSeries):\n\u001B[1;32m   1163\u001B[0m     \u001B[38;5;66;03m# GH#43986 Need to do list(mapped) in order to get treated as nested\u001B[39;00m\n\u001B[1;32m   1164\u001B[0m     \u001B[38;5;66;03m#  See also GH#25959 regarding EA support\u001B[39;00m\n\u001B[1;32m   1165\u001B[0m     \u001B[38;5;28;01mreturn\u001B[39;00m obj\u001B[38;5;241m.\u001B[39m_constructor_expanddim(\u001B[38;5;28mlist\u001B[39m(mapped), index\u001B[38;5;241m=\u001B[39mobj\u001B[38;5;241m.\u001B[39mindex)\n",
      "File \u001B[0;32m~/opt/anaconda3/envs/AAI530/lib/python3.9/site-packages/pandas/_libs/lib.pyx:2918\u001B[0m, in \u001B[0;36mpandas._libs.lib.map_infer\u001B[0;34m()\u001B[0m\n",
      "Cell \u001B[0;32mIn[17], line 22\u001B[0m, in \u001B[0;36m<lambda>\u001B[0;34m(x)\u001B[0m\n\u001B[1;32m     20\u001B[0m     mask \u001B[38;5;241m=\u001B[39m (df_user[\u001B[38;5;124m'\u001B[39m\u001B[38;5;124mDatetime\u001B[39m\u001B[38;5;124m'\u001B[39m] \u001B[38;5;241m>\u001B[39m\u001B[38;5;241m=\u001B[39m row[\u001B[38;5;124m'\u001B[39m\u001B[38;5;124mstart_time\u001B[39m\u001B[38;5;124m'\u001B[39m])\n\u001B[1;32m     21\u001B[0m     df_to_apply \u001B[38;5;241m=\u001B[39m df_user[mask]\n\u001B[0;32m---> 22\u001B[0m     df_user\u001B[38;5;241m.\u001B[39mloc[mask, \u001B[38;5;124m'\u001B[39m\u001B[38;5;124mlabel\u001B[39m\u001B[38;5;124m'\u001B[39m] \u001B[38;5;241m=\u001B[39m df_to_apply[\u001B[38;5;124m'\u001B[39m\u001B[38;5;124mDatetime\u001B[39m\u001B[38;5;124m'\u001B[39m]\u001B[38;5;241m.\u001B[39mapply(\u001B[38;5;28;01mlambda\u001B[39;00m x: \u001B[43mis_between\u001B[49m\u001B[43m(\u001B[49m\u001B[43mx\u001B[49m\u001B[43m,\u001B[49m\u001B[43m \u001B[49m\u001B[43mrow\u001B[49m\u001B[43m)\u001B[49m)\n\u001B[1;32m     23\u001B[0m df_list_w_labels\u001B[38;5;241m.\u001B[39mappend(df_user)\n\u001B[1;32m     24\u001B[0m \u001B[38;5;28;01mbreak\u001B[39;00m\n",
      "Cell \u001B[0;32mIn[13], line 2\u001B[0m, in \u001B[0;36mis_between\u001B[0;34m(time, row_to_check)\u001B[0m\n\u001B[1;32m      1\u001B[0m \u001B[38;5;28;01mdef\u001B[39;00m \u001B[38;5;21mis_between\u001B[39m(time, row_to_check):\n\u001B[0;32m----> 2\u001B[0m     \u001B[38;5;28;01mif\u001B[39;00m row_to_check[\u001B[38;5;124m'\u001B[39m\u001B[38;5;124mstart_time\u001B[39m\u001B[38;5;124m'\u001B[39m] \u001B[38;5;241m<\u001B[39m\u001B[38;5;241m=\u001B[39m time \u001B[38;5;241m<\u001B[39m\u001B[38;5;241m=\u001B[39m \u001B[43mrow_to_check\u001B[49m\u001B[43m[\u001B[49m\u001B[38;5;124;43m'\u001B[39;49m\u001B[38;5;124;43mend_time\u001B[39;49m\u001B[38;5;124;43m'\u001B[39;49m\u001B[43m]\u001B[49m:\n\u001B[1;32m      3\u001B[0m         \u001B[38;5;28;01mreturn\u001B[39;00m row_to_check[\u001B[38;5;124m'\u001B[39m\u001B[38;5;124mtransportation_mode\u001B[39m\u001B[38;5;124m'\u001B[39m]\n",
      "File \u001B[0;32m~/opt/anaconda3/envs/AAI530/lib/python3.9/site-packages/pandas/core/series.py:981\u001B[0m, in \u001B[0;36mSeries.__getitem__\u001B[0;34m(self, key)\u001B[0m\n\u001B[1;32m    978\u001B[0m     \u001B[38;5;28;01mreturn\u001B[39;00m \u001B[38;5;28mself\u001B[39m\u001B[38;5;241m.\u001B[39m_values[key]\n\u001B[1;32m    980\u001B[0m \u001B[38;5;28;01melif\u001B[39;00m key_is_scalar:\n\u001B[0;32m--> 981\u001B[0m     \u001B[38;5;28;01mreturn\u001B[39;00m \u001B[38;5;28;43mself\u001B[39;49m\u001B[38;5;241;43m.\u001B[39;49m\u001B[43m_get_value\u001B[49m\u001B[43m(\u001B[49m\u001B[43mkey\u001B[49m\u001B[43m)\u001B[49m\n\u001B[1;32m    983\u001B[0m \u001B[38;5;28;01mif\u001B[39;00m is_hashable(key):\n\u001B[1;32m    984\u001B[0m     \u001B[38;5;66;03m# Otherwise index.get_value will raise InvalidIndexError\u001B[39;00m\n\u001B[1;32m    985\u001B[0m     \u001B[38;5;28;01mtry\u001B[39;00m:\n\u001B[1;32m    986\u001B[0m         \u001B[38;5;66;03m# For labels that don't resolve as scalars like tuples and frozensets\u001B[39;00m\n",
      "File \u001B[0;32m~/opt/anaconda3/envs/AAI530/lib/python3.9/site-packages/pandas/core/series.py:1089\u001B[0m, in \u001B[0;36mSeries._get_value\u001B[0;34m(self, label, takeable)\u001B[0m\n\u001B[1;32m   1086\u001B[0m     \u001B[38;5;28;01mreturn\u001B[39;00m \u001B[38;5;28mself\u001B[39m\u001B[38;5;241m.\u001B[39m_values[label]\n\u001B[1;32m   1088\u001B[0m \u001B[38;5;66;03m# Similar to Index.get_value, but we do not fall back to positional\u001B[39;00m\n\u001B[0;32m-> 1089\u001B[0m loc \u001B[38;5;241m=\u001B[39m \u001B[38;5;28;43mself\u001B[39;49m\u001B[38;5;241;43m.\u001B[39;49m\u001B[43mindex\u001B[49m\u001B[38;5;241;43m.\u001B[39;49m\u001B[43mget_loc\u001B[49m\u001B[43m(\u001B[49m\u001B[43mlabel\u001B[49m\u001B[43m)\u001B[49m\n\u001B[1;32m   1090\u001B[0m \u001B[38;5;28;01mreturn\u001B[39;00m \u001B[38;5;28mself\u001B[39m\u001B[38;5;241m.\u001B[39mindex\u001B[38;5;241m.\u001B[39m_get_values_for_loc(\u001B[38;5;28mself\u001B[39m, loc, label)\n",
      "File \u001B[0;32m~/opt/anaconda3/envs/AAI530/lib/python3.9/site-packages/pandas/core/indexes/base.py:3801\u001B[0m, in \u001B[0;36mIndex.get_loc\u001B[0;34m(self, key, method, tolerance)\u001B[0m\n\u001B[1;32m   3796\u001B[0m \u001B[38;5;28;01mif\u001B[39;00m tolerance \u001B[38;5;129;01mis\u001B[39;00m \u001B[38;5;129;01mnot\u001B[39;00m \u001B[38;5;28;01mNone\u001B[39;00m:\n\u001B[1;32m   3797\u001B[0m     \u001B[38;5;28;01mraise\u001B[39;00m \u001B[38;5;167;01mValueError\u001B[39;00m(\n\u001B[1;32m   3798\u001B[0m         \u001B[38;5;124m\"\u001B[39m\u001B[38;5;124mtolerance argument only valid if using pad, \u001B[39m\u001B[38;5;124m\"\u001B[39m\n\u001B[1;32m   3799\u001B[0m         \u001B[38;5;124m\"\u001B[39m\u001B[38;5;124mbackfill or nearest lookups\u001B[39m\u001B[38;5;124m\"\u001B[39m\n\u001B[1;32m   3800\u001B[0m     )\n\u001B[0;32m-> 3801\u001B[0m casted_key \u001B[38;5;241m=\u001B[39m \u001B[38;5;28;43mself\u001B[39;49m\u001B[38;5;241;43m.\u001B[39;49m\u001B[43m_maybe_cast_indexer\u001B[49m(key)\n\u001B[1;32m   3802\u001B[0m \u001B[38;5;28;01mtry\u001B[39;00m:\n\u001B[1;32m   3803\u001B[0m     \u001B[38;5;28;01mreturn\u001B[39;00m \u001B[38;5;28mself\u001B[39m\u001B[38;5;241m.\u001B[39m_engine\u001B[38;5;241m.\u001B[39mget_loc(casted_key)\n",
      "\u001B[0;31mKeyboardInterrupt\u001B[0m: "
     ]
    }
   ],
   "source": [
    "# add labels to df if they exist\n",
    "for i in range(21):\n",
    "    # Create the folder path for each folder\n",
    "    folder_path = \"./Data/{:03d}\".format(i)\n",
    "    # Check to see if a .txt file exists in the folder\n",
    "    for f in os.listdir(folder_path):\n",
    "        if f.endswith('.txt'):\n",
    "            file_path = os.path.join(folder_path, f)\n",
    "            # Load the .plt file into a DataFrame\n",
    "            df_labels = pd.read_csv(file_path, delimiter='\\t', header=None, skiprows=1,\n",
    "                         names=[\"start_time\", \"end_time\", \"transportation_mode\"])\n",
    "            df_labels['user'] = \"{:03d}\".format(i)\n",
    "            df_labels['start_time'] = pd.to_datetime(df_labels['start_time'], format='%Y/%m/%d %H:%M:%S')\n",
    "            df_labels['end_time'] = pd.to_datetime(df_labels['end_time'], format='%Y/%m/%d %H:%M:%S')\n",
    "            df_user = df[df['user'] == \"{:03d}\".format(i)]\n",
    "            for j, row in df_labels.iterrows():\n",
    "                mask = (df_user['Datetime'] >= row['start_time'])\n",
    "                df_to_apply = df_user[mask]\n",
    "                df[df['user'] == \"{:03d}\".format(i)].loc[mask, 'label'] = df_to_apply['Datetime'].apply(lambda x: is_between(x, row))\n",
    "            break"
   ],
   "metadata": {
    "collapsed": false
   }
  },
  {
   "cell_type": "code",
   "execution_count": 8,
   "outputs": [
    {
     "data": {
      "text/plain": "train       384968\nwalk         89235\nbike         63710\ntaxi         56805\nbus          51823\nsubway       20946\ncar           6584\n              2420\nairplane      1325\nName: label, dtype: int64"
     },
     "execution_count": 8,
     "metadata": {},
     "output_type": "execute_result"
    }
   ],
   "source": [],
   "metadata": {
    "collapsed": false
   }
  },
  {
   "cell_type": "code",
   "execution_count": 38,
   "outputs": [],
   "source": [
    "df_20['label'] = ''\n",
    "for i, row in df_labels_20.iterrows():\n",
    "    mask = (df_20['Datetime'] >= row['start_time'])\n",
    "    df_to_apply = df_20[mask]\n",
    "    df_20.loc[mask, 'label'] = df_to_apply['Datetime'].apply(lambda x: is_between(x, row))"
   ],
   "metadata": {
    "collapsed": false
   }
  },
  {
   "cell_type": "code",
   "execution_count": 67,
   "outputs": [
    {
     "data": {
      "text/plain": "    Latitude   Longitude  Altitude  Reserved_1    Reserved_2  \\\n0  40.000168  116.327474       0.0        80.0  39915.314688   \n1  40.000055  116.327454       0.0        99.0  39915.314745   \n2  40.000021  116.327407       0.0       109.0  39915.314803   \n3  40.000035  116.327281       0.0       111.0  39915.314861   \n4  39.999983  116.327285       0.0       114.0  39915.314919   \n\n             Datetime user label  \n0 2009-04-12 07:33:09  000        \n1 2009-04-12 07:33:14  000        \n2 2009-04-12 07:33:19  000        \n3 2009-04-12 07:33:24  000        \n4 2009-04-12 07:33:29  000        ",
      "text/html": "<div>\n<style scoped>\n    .dataframe tbody tr th:only-of-type {\n        vertical-align: middle;\n    }\n\n    .dataframe tbody tr th {\n        vertical-align: top;\n    }\n\n    .dataframe thead th {\n        text-align: right;\n    }\n</style>\n<table border=\"1\" class=\"dataframe\">\n  <thead>\n    <tr style=\"text-align: right;\">\n      <th></th>\n      <th>Latitude</th>\n      <th>Longitude</th>\n      <th>Altitude</th>\n      <th>Reserved_1</th>\n      <th>Reserved_2</th>\n      <th>Datetime</th>\n      <th>user</th>\n      <th>label</th>\n    </tr>\n  </thead>\n  <tbody>\n    <tr>\n      <th>0</th>\n      <td>40.000168</td>\n      <td>116.327474</td>\n      <td>0.0</td>\n      <td>80.0</td>\n      <td>39915.314688</td>\n      <td>2009-04-12 07:33:09</td>\n      <td>000</td>\n      <td></td>\n    </tr>\n    <tr>\n      <th>1</th>\n      <td>40.000055</td>\n      <td>116.327454</td>\n      <td>0.0</td>\n      <td>99.0</td>\n      <td>39915.314745</td>\n      <td>2009-04-12 07:33:14</td>\n      <td>000</td>\n      <td></td>\n    </tr>\n    <tr>\n      <th>2</th>\n      <td>40.000021</td>\n      <td>116.327407</td>\n      <td>0.0</td>\n      <td>109.0</td>\n      <td>39915.314803</td>\n      <td>2009-04-12 07:33:19</td>\n      <td>000</td>\n      <td></td>\n    </tr>\n    <tr>\n      <th>3</th>\n      <td>40.000035</td>\n      <td>116.327281</td>\n      <td>0.0</td>\n      <td>111.0</td>\n      <td>39915.314861</td>\n      <td>2009-04-12 07:33:24</td>\n      <td>000</td>\n      <td></td>\n    </tr>\n    <tr>\n      <th>4</th>\n      <td>39.999983</td>\n      <td>116.327285</td>\n      <td>0.0</td>\n      <td>114.0</td>\n      <td>39915.314919</td>\n      <td>2009-04-12 07:33:29</td>\n      <td>000</td>\n      <td></td>\n    </tr>\n  </tbody>\n</table>\n</div>"
     },
     "execution_count": 67,
     "metadata": {},
     "output_type": "execute_result"
    }
   ],
   "source": [
    "df_20.label.value_counts()"
   ],
   "metadata": {
    "collapsed": false
   }
  },
  {
   "cell_type": "code",
   "execution_count": 61,
   "outputs": [],
   "source": [
    "df_20.iloc[65000:65010]"
   ],
   "metadata": {
    "collapsed": false
   }
  },
  {
   "cell_type": "code",
   "execution_count": null,
   "id": "fed30e25",
   "metadata": {
    "pycharm": {
     "is_executing": true
    }
   },
   "outputs": [],
   "source": [
    "df.Reserved_1"
   ]
  },
  {
   "cell_type": "code",
   "execution_count": 11,
   "id": "9d42088d",
   "metadata": {},
   "outputs": [],
   "source": [
    "# get rid of the field 3 \n",
    "df[\"Altitude\"] = df[\"Reserved_1\"]\n",
    "\n",
    "# Drop the \"Reserved_1\" column\n",
    "df = df.drop(\"Reserved_1\", axis=1)"
   ]
  },
  {
   "cell_type": "code",
   "execution_count": 12,
   "id": "86694177",
   "metadata": {},
   "outputs": [
    {
     "data": {
      "text/plain": [
       "0       492.000000\n",
       "1       492.000000\n",
       "2       492.000000\n",
       "3       492.000000\n",
       "4       493.000000\n",
       "           ...    \n",
       "1018    107.517093\n",
       "1019    108.301296\n",
       "1020    108.730738\n",
       "1021    108.944337\n",
       "1022    108.286214\n",
       "Name: Altitude, Length: 24857636, dtype: float64"
      ]
     },
     "execution_count": 12,
     "metadata": {},
     "output_type": "execute_result"
    }
   ],
   "source": [
    "df.Altitude"
   ]
  },
  {
   "cell_type": "code",
   "execution_count": 13,
   "id": "d3177046",
   "metadata": {},
   "outputs": [
    {
     "data": {
      "text/plain": [
       "(24857636, 5)"
      ]
     },
     "execution_count": 13,
     "metadata": {},
     "output_type": "execute_result"
    }
   ],
   "source": [
    "df.shape"
   ]
  },
  {
   "cell_type": "code",
   "execution_count": 15,
   "id": "15e1d61e",
   "metadata": {},
   "outputs": [
    {
     "data": {
      "text/html": [
       "<div>\n",
       "<style scoped>\n",
       "    .dataframe tbody tr th:only-of-type {\n",
       "        vertical-align: middle;\n",
       "    }\n",
       "\n",
       "    .dataframe tbody tr th {\n",
       "        vertical-align: top;\n",
       "    }\n",
       "\n",
       "    .dataframe thead th {\n",
       "        text-align: right;\n",
       "    }\n",
       "</style>\n",
       "<table border=\"1\" class=\"dataframe\">\n",
       "  <thead>\n",
       "    <tr style=\"text-align: right;\">\n",
       "      <th></th>\n",
       "      <th>Latitude</th>\n",
       "      <th>Longitude</th>\n",
       "      <th>Altitude</th>\n",
       "      <th>Reserved_2</th>\n",
       "      <th>Datetime</th>\n",
       "    </tr>\n",
       "  </thead>\n",
       "  <tbody>\n",
       "    <tr>\n",
       "      <th>0</th>\n",
       "      <td>39.984683</td>\n",
       "      <td>116.318450</td>\n",
       "      <td>492.0</td>\n",
       "      <td>39744.120255</td>\n",
       "      <td>2008-10-23 02:53:10</td>\n",
       "    </tr>\n",
       "    <tr>\n",
       "      <th>1</th>\n",
       "      <td>39.984686</td>\n",
       "      <td>116.318417</td>\n",
       "      <td>492.0</td>\n",
       "      <td>39744.120313</td>\n",
       "      <td>2008-10-23 02:53:15</td>\n",
       "    </tr>\n",
       "    <tr>\n",
       "      <th>2</th>\n",
       "      <td>39.984688</td>\n",
       "      <td>116.318385</td>\n",
       "      <td>492.0</td>\n",
       "      <td>39744.120370</td>\n",
       "      <td>2008-10-23 02:53:20</td>\n",
       "    </tr>\n",
       "    <tr>\n",
       "      <th>3</th>\n",
       "      <td>39.984655</td>\n",
       "      <td>116.318263</td>\n",
       "      <td>492.0</td>\n",
       "      <td>39744.120428</td>\n",
       "      <td>2008-10-23 02:53:25</td>\n",
       "    </tr>\n",
       "    <tr>\n",
       "      <th>4</th>\n",
       "      <td>39.984611</td>\n",
       "      <td>116.318026</td>\n",
       "      <td>493.0</td>\n",
       "      <td>39744.120486</td>\n",
       "      <td>2008-10-23 02:53:30</td>\n",
       "    </tr>\n",
       "    <tr>\n",
       "      <th>5</th>\n",
       "      <td>39.984608</td>\n",
       "      <td>116.317761</td>\n",
       "      <td>493.0</td>\n",
       "      <td>39744.120544</td>\n",
       "      <td>2008-10-23 02:53:35</td>\n",
       "    </tr>\n",
       "    <tr>\n",
       "      <th>6</th>\n",
       "      <td>39.984563</td>\n",
       "      <td>116.317517</td>\n",
       "      <td>496.0</td>\n",
       "      <td>39744.120602</td>\n",
       "      <td>2008-10-23 02:53:40</td>\n",
       "    </tr>\n",
       "    <tr>\n",
       "      <th>7</th>\n",
       "      <td>39.984539</td>\n",
       "      <td>116.317294</td>\n",
       "      <td>500.0</td>\n",
       "      <td>39744.120660</td>\n",
       "      <td>2008-10-23 02:53:45</td>\n",
       "    </tr>\n",
       "    <tr>\n",
       "      <th>8</th>\n",
       "      <td>39.984606</td>\n",
       "      <td>116.317065</td>\n",
       "      <td>505.0</td>\n",
       "      <td>39744.120718</td>\n",
       "      <td>2008-10-23 02:53:50</td>\n",
       "    </tr>\n",
       "    <tr>\n",
       "      <th>9</th>\n",
       "      <td>39.984568</td>\n",
       "      <td>116.316911</td>\n",
       "      <td>510.0</td>\n",
       "      <td>39744.120775</td>\n",
       "      <td>2008-10-23 02:53:55</td>\n",
       "    </tr>\n",
       "  </tbody>\n",
       "</table>\n",
       "</div>"
      ],
      "text/plain": [
       "    Latitude   Longitude  Altitude    Reserved_2            Datetime\n",
       "0  39.984683  116.318450     492.0  39744.120255 2008-10-23 02:53:10\n",
       "1  39.984686  116.318417     492.0  39744.120313 2008-10-23 02:53:15\n",
       "2  39.984688  116.318385     492.0  39744.120370 2008-10-23 02:53:20\n",
       "3  39.984655  116.318263     492.0  39744.120428 2008-10-23 02:53:25\n",
       "4  39.984611  116.318026     493.0  39744.120486 2008-10-23 02:53:30\n",
       "5  39.984608  116.317761     493.0  39744.120544 2008-10-23 02:53:35\n",
       "6  39.984563  116.317517     496.0  39744.120602 2008-10-23 02:53:40\n",
       "7  39.984539  116.317294     500.0  39744.120660 2008-10-23 02:53:45\n",
       "8  39.984606  116.317065     505.0  39744.120718 2008-10-23 02:53:50\n",
       "9  39.984568  116.316911     510.0  39744.120775 2008-10-23 02:53:55"
      ]
     },
     "execution_count": 15,
     "metadata": {},
     "output_type": "execute_result"
    }
   ],
   "source": [
    "df.head(10)"
   ]
  },
  {
   "cell_type": "code",
   "execution_count": 16,
   "id": "cf3409d5",
   "metadata": {},
   "outputs": [],
   "source": [
    "# Convert the \"Days_since_1230_1899\" column to a datetime object\n",
    "df[\"Date_Time\"] = pd.to_datetime(df[\"Reserved_2\"], unit='d', origin='12/30/1899')"
   ]
  },
  {
   "cell_type": "code",
   "execution_count": 17,
   "id": "63cd6cc2",
   "metadata": {},
   "outputs": [
    {
     "data": {
      "text/html": [
       "<div>\n",
       "<style scoped>\n",
       "    .dataframe tbody tr th:only-of-type {\n",
       "        vertical-align: middle;\n",
       "    }\n",
       "\n",
       "    .dataframe tbody tr th {\n",
       "        vertical-align: top;\n",
       "    }\n",
       "\n",
       "    .dataframe thead th {\n",
       "        text-align: right;\n",
       "    }\n",
       "</style>\n",
       "<table border=\"1\" class=\"dataframe\">\n",
       "  <thead>\n",
       "    <tr style=\"text-align: right;\">\n",
       "      <th></th>\n",
       "      <th>Latitude</th>\n",
       "      <th>Longitude</th>\n",
       "      <th>Altitude</th>\n",
       "      <th>Reserved_2</th>\n",
       "      <th>Datetime</th>\n",
       "      <th>Date_Time</th>\n",
       "    </tr>\n",
       "  </thead>\n",
       "  <tbody>\n",
       "    <tr>\n",
       "      <th>0</th>\n",
       "      <td>39.984683</td>\n",
       "      <td>116.318450</td>\n",
       "      <td>492.0</td>\n",
       "      <td>39744.120255</td>\n",
       "      <td>2008-10-23 02:53:10</td>\n",
       "      <td>2008-10-23 02:53:09.999997184</td>\n",
       "    </tr>\n",
       "    <tr>\n",
       "      <th>1</th>\n",
       "      <td>39.984686</td>\n",
       "      <td>116.318417</td>\n",
       "      <td>492.0</td>\n",
       "      <td>39744.120313</td>\n",
       "      <td>2008-10-23 02:53:15</td>\n",
       "      <td>2008-10-23 02:53:15.000000256</td>\n",
       "    </tr>\n",
       "    <tr>\n",
       "      <th>2</th>\n",
       "      <td>39.984688</td>\n",
       "      <td>116.318385</td>\n",
       "      <td>492.0</td>\n",
       "      <td>39744.120370</td>\n",
       "      <td>2008-10-23 02:53:20</td>\n",
       "      <td>2008-10-23 02:53:20.000002560</td>\n",
       "    </tr>\n",
       "    <tr>\n",
       "      <th>3</th>\n",
       "      <td>39.984655</td>\n",
       "      <td>116.318263</td>\n",
       "      <td>492.0</td>\n",
       "      <td>39744.120428</td>\n",
       "      <td>2008-10-23 02:53:25</td>\n",
       "      <td>2008-10-23 02:53:24.999996416</td>\n",
       "    </tr>\n",
       "    <tr>\n",
       "      <th>4</th>\n",
       "      <td>39.984611</td>\n",
       "      <td>116.318026</td>\n",
       "      <td>493.0</td>\n",
       "      <td>39744.120486</td>\n",
       "      <td>2008-10-23 02:53:30</td>\n",
       "      <td>2008-10-23 02:53:29.999998720</td>\n",
       "    </tr>\n",
       "    <tr>\n",
       "      <th>5</th>\n",
       "      <td>39.984608</td>\n",
       "      <td>116.317761</td>\n",
       "      <td>493.0</td>\n",
       "      <td>39744.120544</td>\n",
       "      <td>2008-10-23 02:53:35</td>\n",
       "      <td>2008-10-23 02:53:35.000001792</td>\n",
       "    </tr>\n",
       "    <tr>\n",
       "      <th>6</th>\n",
       "      <td>39.984563</td>\n",
       "      <td>116.317517</td>\n",
       "      <td>496.0</td>\n",
       "      <td>39744.120602</td>\n",
       "      <td>2008-10-23 02:53:40</td>\n",
       "      <td>2008-10-23 02:53:40.000004096</td>\n",
       "    </tr>\n",
       "    <tr>\n",
       "      <th>7</th>\n",
       "      <td>39.984539</td>\n",
       "      <td>116.317294</td>\n",
       "      <td>500.0</td>\n",
       "      <td>39744.120660</td>\n",
       "      <td>2008-10-23 02:53:45</td>\n",
       "      <td>2008-10-23 02:53:44.999997952</td>\n",
       "    </tr>\n",
       "    <tr>\n",
       "      <th>8</th>\n",
       "      <td>39.984606</td>\n",
       "      <td>116.317065</td>\n",
       "      <td>505.0</td>\n",
       "      <td>39744.120718</td>\n",
       "      <td>2008-10-23 02:53:50</td>\n",
       "      <td>2008-10-23 02:53:50.000000768</td>\n",
       "    </tr>\n",
       "    <tr>\n",
       "      <th>9</th>\n",
       "      <td>39.984568</td>\n",
       "      <td>116.316911</td>\n",
       "      <td>510.0</td>\n",
       "      <td>39744.120775</td>\n",
       "      <td>2008-10-23 02:53:55</td>\n",
       "      <td>2008-10-23 02:53:55.000003328</td>\n",
       "    </tr>\n",
       "  </tbody>\n",
       "</table>\n",
       "</div>"
      ],
      "text/plain": [
       "    Latitude   Longitude  Altitude    Reserved_2            Datetime  \\\n",
       "0  39.984683  116.318450     492.0  39744.120255 2008-10-23 02:53:10   \n",
       "1  39.984686  116.318417     492.0  39744.120313 2008-10-23 02:53:15   \n",
       "2  39.984688  116.318385     492.0  39744.120370 2008-10-23 02:53:20   \n",
       "3  39.984655  116.318263     492.0  39744.120428 2008-10-23 02:53:25   \n",
       "4  39.984611  116.318026     493.0  39744.120486 2008-10-23 02:53:30   \n",
       "5  39.984608  116.317761     493.0  39744.120544 2008-10-23 02:53:35   \n",
       "6  39.984563  116.317517     496.0  39744.120602 2008-10-23 02:53:40   \n",
       "7  39.984539  116.317294     500.0  39744.120660 2008-10-23 02:53:45   \n",
       "8  39.984606  116.317065     505.0  39744.120718 2008-10-23 02:53:50   \n",
       "9  39.984568  116.316911     510.0  39744.120775 2008-10-23 02:53:55   \n",
       "\n",
       "                      Date_Time  \n",
       "0 2008-10-23 02:53:09.999997184  \n",
       "1 2008-10-23 02:53:15.000000256  \n",
       "2 2008-10-23 02:53:20.000002560  \n",
       "3 2008-10-23 02:53:24.999996416  \n",
       "4 2008-10-23 02:53:29.999998720  \n",
       "5 2008-10-23 02:53:35.000001792  \n",
       "6 2008-10-23 02:53:40.000004096  \n",
       "7 2008-10-23 02:53:44.999997952  \n",
       "8 2008-10-23 02:53:50.000000768  \n",
       "9 2008-10-23 02:53:55.000003328  "
      ]
     },
     "execution_count": 17,
     "metadata": {},
     "output_type": "execute_result"
    }
   ],
   "source": [
    "df.head(10)"
   ]
  },
  {
   "cell_type": "code",
   "execution_count": null,
   "id": "e25470e1",
   "metadata": {},
   "outputs": [],
   "source": [
    "# Drop the \"Reserved_2\" column\n",
    "df = df.drop(\"Reserved_2\", axis=1)"
   ]
  },
  {
   "cell_type": "code",
   "execution_count": 20,
   "id": "a153c804",
   "metadata": {},
   "outputs": [],
   "source": [
    "# Drop the \"Reserved_2\" column\n",
    "df = df.drop(\"Datetime\", axis=1)"
   ]
  },
  {
   "cell_type": "code",
   "execution_count": 21,
   "id": "38f20bd6",
   "metadata": {},
   "outputs": [
    {
     "data": {
      "text/html": [
       "<div>\n",
       "<style scoped>\n",
       "    .dataframe tbody tr th:only-of-type {\n",
       "        vertical-align: middle;\n",
       "    }\n",
       "\n",
       "    .dataframe tbody tr th {\n",
       "        vertical-align: top;\n",
       "    }\n",
       "\n",
       "    .dataframe thead th {\n",
       "        text-align: right;\n",
       "    }\n",
       "</style>\n",
       "<table border=\"1\" class=\"dataframe\">\n",
       "  <thead>\n",
       "    <tr style=\"text-align: right;\">\n",
       "      <th></th>\n",
       "      <th>Latitude</th>\n",
       "      <th>Longitude</th>\n",
       "      <th>Altitude</th>\n",
       "      <th>Date_Time</th>\n",
       "    </tr>\n",
       "  </thead>\n",
       "  <tbody>\n",
       "    <tr>\n",
       "      <th>0</th>\n",
       "      <td>39.984683</td>\n",
       "      <td>116.318450</td>\n",
       "      <td>492.0</td>\n",
       "      <td>2008-10-23 02:53:09.999997184</td>\n",
       "    </tr>\n",
       "    <tr>\n",
       "      <th>1</th>\n",
       "      <td>39.984686</td>\n",
       "      <td>116.318417</td>\n",
       "      <td>492.0</td>\n",
       "      <td>2008-10-23 02:53:15.000000256</td>\n",
       "    </tr>\n",
       "    <tr>\n",
       "      <th>2</th>\n",
       "      <td>39.984688</td>\n",
       "      <td>116.318385</td>\n",
       "      <td>492.0</td>\n",
       "      <td>2008-10-23 02:53:20.000002560</td>\n",
       "    </tr>\n",
       "    <tr>\n",
       "      <th>3</th>\n",
       "      <td>39.984655</td>\n",
       "      <td>116.318263</td>\n",
       "      <td>492.0</td>\n",
       "      <td>2008-10-23 02:53:24.999996416</td>\n",
       "    </tr>\n",
       "    <tr>\n",
       "      <th>4</th>\n",
       "      <td>39.984611</td>\n",
       "      <td>116.318026</td>\n",
       "      <td>493.0</td>\n",
       "      <td>2008-10-23 02:53:29.999998720</td>\n",
       "    </tr>\n",
       "    <tr>\n",
       "      <th>5</th>\n",
       "      <td>39.984608</td>\n",
       "      <td>116.317761</td>\n",
       "      <td>493.0</td>\n",
       "      <td>2008-10-23 02:53:35.000001792</td>\n",
       "    </tr>\n",
       "    <tr>\n",
       "      <th>6</th>\n",
       "      <td>39.984563</td>\n",
       "      <td>116.317517</td>\n",
       "      <td>496.0</td>\n",
       "      <td>2008-10-23 02:53:40.000004096</td>\n",
       "    </tr>\n",
       "    <tr>\n",
       "      <th>7</th>\n",
       "      <td>39.984539</td>\n",
       "      <td>116.317294</td>\n",
       "      <td>500.0</td>\n",
       "      <td>2008-10-23 02:53:44.999997952</td>\n",
       "    </tr>\n",
       "    <tr>\n",
       "      <th>8</th>\n",
       "      <td>39.984606</td>\n",
       "      <td>116.317065</td>\n",
       "      <td>505.0</td>\n",
       "      <td>2008-10-23 02:53:50.000000768</td>\n",
       "    </tr>\n",
       "    <tr>\n",
       "      <th>9</th>\n",
       "      <td>39.984568</td>\n",
       "      <td>116.316911</td>\n",
       "      <td>510.0</td>\n",
       "      <td>2008-10-23 02:53:55.000003328</td>\n",
       "    </tr>\n",
       "  </tbody>\n",
       "</table>\n",
       "</div>"
      ],
      "text/plain": [
       "    Latitude   Longitude  Altitude                     Date_Time\n",
       "0  39.984683  116.318450     492.0 2008-10-23 02:53:09.999997184\n",
       "1  39.984686  116.318417     492.0 2008-10-23 02:53:15.000000256\n",
       "2  39.984688  116.318385     492.0 2008-10-23 02:53:20.000002560\n",
       "3  39.984655  116.318263     492.0 2008-10-23 02:53:24.999996416\n",
       "4  39.984611  116.318026     493.0 2008-10-23 02:53:29.999998720\n",
       "5  39.984608  116.317761     493.0 2008-10-23 02:53:35.000001792\n",
       "6  39.984563  116.317517     496.0 2008-10-23 02:53:40.000004096\n",
       "7  39.984539  116.317294     500.0 2008-10-23 02:53:44.999997952\n",
       "8  39.984606  116.317065     505.0 2008-10-23 02:53:50.000000768\n",
       "9  39.984568  116.316911     510.0 2008-10-23 02:53:55.000003328"
      ]
     },
     "execution_count": 21,
     "metadata": {},
     "output_type": "execute_result"
    }
   ],
   "source": [
    "df.head(10)"
   ]
  },
  {
   "cell_type": "markdown",
   "id": "3a5c9c2c",
   "metadata": {},
   "source": [
    "# Preporcessing and clearning"
   ]
  },
  {
   "cell_type": "code",
   "execution_count": 23,
   "id": "529cb020",
   "metadata": {},
   "outputs": [],
   "source": [
    "# Replace -777 with NaN\n",
    "df['Altitude'].replace(-777, pd.np.nan, inplace=True)\n",
    "\n",
    "# Drop any rows with NaN values in the 'Altitude' field\n",
    "df.dropna(subset=['Altitude'], inplace=True)\n",
    "\n",
    "# Convert 'Altitude' field from feet to meters\n",
    "df['Altitude'] = df['Altitude'] * 0.3048"
   ]
  },
  {
   "cell_type": "code",
   "execution_count": 24,
   "id": "127d4ee0",
   "metadata": {},
   "outputs": [
    {
     "data": {
      "text/html": [
       "<div>\n",
       "<style scoped>\n",
       "    .dataframe tbody tr th:only-of-type {\n",
       "        vertical-align: middle;\n",
       "    }\n",
       "\n",
       "    .dataframe tbody tr th {\n",
       "        vertical-align: top;\n",
       "    }\n",
       "\n",
       "    .dataframe thead th {\n",
       "        text-align: right;\n",
       "    }\n",
       "</style>\n",
       "<table border=\"1\" class=\"dataframe\">\n",
       "  <thead>\n",
       "    <tr style=\"text-align: right;\">\n",
       "      <th></th>\n",
       "      <th>Latitude</th>\n",
       "      <th>Longitude</th>\n",
       "      <th>Altitude</th>\n",
       "      <th>Date_Time</th>\n",
       "    </tr>\n",
       "  </thead>\n",
       "  <tbody>\n",
       "    <tr>\n",
       "      <th>0</th>\n",
       "      <td>39.984683</td>\n",
       "      <td>116.318450</td>\n",
       "      <td>149.9616</td>\n",
       "      <td>2008-10-23 02:53:09.999997184</td>\n",
       "    </tr>\n",
       "    <tr>\n",
       "      <th>1</th>\n",
       "      <td>39.984686</td>\n",
       "      <td>116.318417</td>\n",
       "      <td>149.9616</td>\n",
       "      <td>2008-10-23 02:53:15.000000256</td>\n",
       "    </tr>\n",
       "    <tr>\n",
       "      <th>2</th>\n",
       "      <td>39.984688</td>\n",
       "      <td>116.318385</td>\n",
       "      <td>149.9616</td>\n",
       "      <td>2008-10-23 02:53:20.000002560</td>\n",
       "    </tr>\n",
       "    <tr>\n",
       "      <th>3</th>\n",
       "      <td>39.984655</td>\n",
       "      <td>116.318263</td>\n",
       "      <td>149.9616</td>\n",
       "      <td>2008-10-23 02:53:24.999996416</td>\n",
       "    </tr>\n",
       "    <tr>\n",
       "      <th>4</th>\n",
       "      <td>39.984611</td>\n",
       "      <td>116.318026</td>\n",
       "      <td>150.2664</td>\n",
       "      <td>2008-10-23 02:53:29.999998720</td>\n",
       "    </tr>\n",
       "    <tr>\n",
       "      <th>5</th>\n",
       "      <td>39.984608</td>\n",
       "      <td>116.317761</td>\n",
       "      <td>150.2664</td>\n",
       "      <td>2008-10-23 02:53:35.000001792</td>\n",
       "    </tr>\n",
       "    <tr>\n",
       "      <th>6</th>\n",
       "      <td>39.984563</td>\n",
       "      <td>116.317517</td>\n",
       "      <td>151.1808</td>\n",
       "      <td>2008-10-23 02:53:40.000004096</td>\n",
       "    </tr>\n",
       "    <tr>\n",
       "      <th>7</th>\n",
       "      <td>39.984539</td>\n",
       "      <td>116.317294</td>\n",
       "      <td>152.4000</td>\n",
       "      <td>2008-10-23 02:53:44.999997952</td>\n",
       "    </tr>\n",
       "    <tr>\n",
       "      <th>8</th>\n",
       "      <td>39.984606</td>\n",
       "      <td>116.317065</td>\n",
       "      <td>153.9240</td>\n",
       "      <td>2008-10-23 02:53:50.000000768</td>\n",
       "    </tr>\n",
       "    <tr>\n",
       "      <th>9</th>\n",
       "      <td>39.984568</td>\n",
       "      <td>116.316911</td>\n",
       "      <td>155.4480</td>\n",
       "      <td>2008-10-23 02:53:55.000003328</td>\n",
       "    </tr>\n",
       "  </tbody>\n",
       "</table>\n",
       "</div>"
      ],
      "text/plain": [
       "    Latitude   Longitude  Altitude                     Date_Time\n",
       "0  39.984683  116.318450  149.9616 2008-10-23 02:53:09.999997184\n",
       "1  39.984686  116.318417  149.9616 2008-10-23 02:53:15.000000256\n",
       "2  39.984688  116.318385  149.9616 2008-10-23 02:53:20.000002560\n",
       "3  39.984655  116.318263  149.9616 2008-10-23 02:53:24.999996416\n",
       "4  39.984611  116.318026  150.2664 2008-10-23 02:53:29.999998720\n",
       "5  39.984608  116.317761  150.2664 2008-10-23 02:53:35.000001792\n",
       "6  39.984563  116.317517  151.1808 2008-10-23 02:53:40.000004096\n",
       "7  39.984539  116.317294  152.4000 2008-10-23 02:53:44.999997952\n",
       "8  39.984606  116.317065  153.9240 2008-10-23 02:53:50.000000768\n",
       "9  39.984568  116.316911  155.4480 2008-10-23 02:53:55.000003328"
      ]
     },
     "execution_count": 24,
     "metadata": {},
     "output_type": "execute_result"
    }
   ],
   "source": [
    "df.head(10)"
   ]
  },
  {
   "cell_type": "code",
   "execution_count": 31,
   "id": "2f548e7b",
   "metadata": {},
   "outputs": [],
   "source": [
    "# Replace any missing or invalid data with the mean value of the column\n",
    "df.fillna(df.mean(), inplace=True)\n",
    "\n",
    "# Normalize the data using MinMaxScaler\n",
    "scaler = MinMaxScaler()\n",
    "df[['Latitude', 'Longitude', 'Altitude']] = scaler.fit_transform(df[['Latitude', 'Longitude', 'Altitude']])\n",
    "\n",
    "# Save the preprocessed data back to a new file\n",
    "df.to_csv('preprocessed_dataset.csv', index=False)"
   ]
  },
  {
   "cell_type": "code",
   "execution_count": 2,
   "id": "5d91d2be",
   "metadata": {},
   "outputs": [],
   "source": [
    "# Opene the  preprocessed data back to a new file\n",
    "# run this when you want run the program\n",
    "df = pd.read_csv(\"preprocessed_dataset.csv\")"
   ]
  },
  {
   "cell_type": "code",
   "execution_count": 3,
   "id": "7bb5c4d7",
   "metadata": {},
   "outputs": [
    {
     "data": {
      "text/plain": [
       "(24802163, 4)"
      ]
     },
     "execution_count": 3,
     "metadata": {},
     "output_type": "execute_result"
    }
   ],
   "source": [
    "df.shape"
   ]
  },
  {
   "cell_type": "code",
   "execution_count": 4,
   "id": "bdadb338",
   "metadata": {},
   "outputs": [
    {
     "data": {
      "text/plain": [
       "Latitude     float64\n",
       "Longitude    float64\n",
       "Altitude     float64\n",
       "Date_Time     object\n",
       "dtype: object"
      ]
     },
     "execution_count": 4,
     "metadata": {},
     "output_type": "execute_result"
    }
   ],
   "source": [
    "df.dtypes"
   ]
  },
  {
   "cell_type": "markdown",
   "id": "a42fe493",
   "metadata": {},
   "source": [
    "# Build the time serries Model use LSTM \n",
    "Model Building: Create a multi-layer LSTM network using the extracted features and normalized values as input. The output layer should have as many nodes as the number of features you want to predict (in this case, 3).\n",
    "\n",
    "Training: Train the model using a suitable optimizer and loss function on the preprocessed data. Monitor the accuracy of the model on a validation set during training.\n",
    "\n",
    "Testing: Finally, test the model on unseen data to evaluate its performance in predicting the GPS trajectory."
   ]
  },
  {
   "cell_type": "code",
   "execution_count": 5,
   "id": "0b581ab2",
   "metadata": {},
   "outputs": [],
   "source": [
    "df['Date_Time'] = pd.to_datetime(df['Date_Time'])\n",
    "df[\"timestamp\"] = df[\"Date_Time\"].astype(np.int64) // 10**9\n",
    "df = df.drop(\"Date_Time\", axis=1)\n",
    "# data = df.values\n",
    "df = df.astype(np.float32)\n",
    "\n",
    "# Take only 20% of the data\n",
    "df = df.iloc[:int(len(df)*0.2), :]\n",
    "\n",
    "# Define the number of time steps and features\n",
    "timesteps = 10\n",
    "input_dim = 3\n",
    "\n",
    "# Split the data into input sequences and corresponding outputs\n",
    "X, y = [], []\n",
    "for i in range(len(df) - timesteps - 1):\n",
    "    X.append(df.iloc[i:(i+timesteps), :input_dim].values)\n",
    "    y.append(df.iloc[i+timesteps, :input_dim].values)\n",
    "\n",
    "# Convert the input sequences and outputs to numpy arrays\n",
    "X = np.array(X)\n",
    "y = np.array(y)\n",
    "\n",
    "# Split the data into training and validation sets\n",
    "X_train, X_val, y_train, y_val = train_test_split(X, y, test_size=0.2, random_state=0)\n",
    "\n",
    "# Define the model\n",
    "model = Sequential()\n",
    "model.add(LSTM(128, input_shape=(timesteps, input_dim), return_sequences=True))\n",
    "model.add(LSTM(64, return_sequences=False))\n",
    "model.add(Dense(input_dim, activation='linear'))\n",
    "\n",
    "# Compile the model\n",
    "model.compile(loss='mean_squared_error', optimizer='adam')"
   ]
  },
  {
   "cell_type": "code",
   "execution_count": 7,
   "id": "88a45b15",
   "metadata": {},
   "outputs": [
    {
     "name": "stdout",
     "output_type": "stream",
     "text": [
      "62006/62006 [==============================] - 391s 6ms/step - loss: 2.2353e-06 - val_loss: 1.7904e-07\n",
      "31003/31003 [==============================] - 81s 3ms/step - loss: 1.7904e-07\n",
      "Validation loss:  1.7903958848819457e-07\n"
     ]
    }
   ],
   "source": [
    "# Train the model\n",
    "history = model.fit(X_train, y_train, epochs=1, batch_size=64, validation_data=(X_val, y_val))\n",
    "\n",
    "# Save the model\n",
    "model.save(\"lstm_model.h5\")\n",
    "\n",
    "# Evaluate the model\n",
    "scores = model.evaluate(X_val, y_val)\n",
    "print(\"Validation loss: \", scores)"
   ]
  },
  {
   "cell_type": "code",
   "execution_count": null,
   "id": "e37211e4",
   "metadata": {},
   "outputs": [],
   "source": [
    "# You can later load the saved model using:\n",
    "# loaded_model = keras.models.load_model(\"lstm_model.h5\")"
   ]
  }
 ],
 "metadata": {
  "kernelspec": {
   "display_name": "Python 3 (ipykernel)",
   "language": "python",
   "name": "python3"
  },
  "language_info": {
   "codemirror_mode": {
    "name": "ipython",
    "version": 3
   },
   "file_extension": ".py",
   "mimetype": "text/x-python",
   "name": "python",
   "nbconvert_exporter": "python",
   "pygments_lexer": "ipython3",
   "version": "3.9.16"
  }
 },
 "nbformat": 4,
 "nbformat_minor": 5
}
